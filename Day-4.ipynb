{
 "cells": [
  {
   "cell_type": "markdown",
   "metadata": {},
   "source": [
    "#### Please Wait for few minutes other faculty's are join\n",
    "\n",
    "\n",
    "#### Today Topics:\n",
    "- Iterations\n",
    "- Control/Jump Statements"
   ]
  },
  {
   "cell_type": "code",
   "execution_count": 4,
   "metadata": {},
   "outputs": [
    {
     "name": "stdout",
     "output_type": "stream",
     "text": [
      "0 2 4 6 8 10 12 14 16 18 20 22 24 26 28 30 32 34 36 38 40 42 44 46 48 50 52 54 56 58 60 62 64 66 68 70 72 74 76 78 80 82 84 86 88 90 92 94 96 98 100 \n",
      "Total even numbers are: 51\n"
     ]
    }
   ],
   "source": [
    "#print the even numbers in the range of 0 to 100 and even nums count\n",
    "count=0\n",
    "for evenNum in range(0,100+1,2):\n",
    "    count=count+1\n",
    "    print(evenNum,end=' ')\n",
    "print(\"\\nTotal even numbers are:\",count)"
   ]
  },
  {
   "cell_type": "code",
   "execution_count": 3,
   "metadata": {},
   "outputs": [
    {
     "name": "stdout",
     "output_type": "stream",
     "text": [
      "0 2 4 6 8 10 12 14 16 18 20 22 24 26 28 30 32 34 36 38 40 42 44 46 48 50 52 54 56 58 60 62 64 66 68 70 72 74 76 78 80 82 84 86 88 90 92 94 96 98 100 \n",
      "Total Count: 51\n"
     ]
    }
   ],
   "source": [
    "c=0\n",
    "for i in range(0,100+1):\n",
    "    if i%2==0:\n",
    "        c=c+1\n",
    "        print(i,end=\" \")\n",
    "print(\"\\nTotal Count:\",c)"
   ]
  },
  {
   "cell_type": "code",
   "execution_count": 5,
   "metadata": {},
   "outputs": [
    {
     "name": "stdout",
     "output_type": "stream",
     "text": [
      "2000\n",
      "2020\n",
      "2000 2004 2008 2012 2016 2020 \n",
      " Total years count: 6\n"
     ]
    }
   ],
   "source": [
    "#Generate the all leap years in the range of 2000 to 2020\n",
    "st=int(input())\n",
    "en=int(input())\n",
    "c=0\n",
    "for year in range(st,en+1):\n",
    "    if(year%400==0 or(year%100!=0) and (year%4==0)):\n",
    "        c=c+1\n",
    "        print(year,end=\" \")\n",
    "print(\"\\n Total years count:\",c)"
   ]
  },
  {
   "cell_type": "code",
   "execution_count": 6,
   "metadata": {},
   "outputs": [
    {
     "name": "stdout",
     "output_type": "stream",
     "text": [
      "5\n",
      "5 * 1 = 5\n",
      "5 * 2 = 10\n",
      "5 * 3 = 15\n",
      "5 * 4 = 20\n",
      "5 * 5 = 25\n",
      "5 * 6 = 30\n",
      "5 * 7 = 35\n",
      "5 * 8 = 40\n",
      "5 * 9 = 45\n",
      "5 * 10 = 50\n"
     ]
    }
   ],
   "source": [
    "#Table\n",
    "#i/p:5\n",
    "#o/p:5*1=5\n",
    "#     5*2=10\n",
    "#    .\n",
    "#    .   \n",
    "#    .\n",
    "#    5*10=50\n",
    "n=int(input())    \n",
    "for i in range(1,10+1):\n",
    "    print(n,\"*\",i,\"=\",n*i)"
   ]
  },
  {
   "cell_type": "code",
   "execution_count": 11,
   "metadata": {},
   "outputs": [
    {
     "name": "stdout",
     "output_type": "stream",
     "text": [
      "aba\n",
      "292\n"
     ]
    }
   ],
   "source": [
    "#i/p:aba  97+98 +97=292\n",
    "#o/p:292\n",
    "a=input()\n",
    "s=0\n",
    "for i in a:   #i=a      #i=b      #i=a \n",
    "    s=s+ord(i)   #0+97=97   #97+98=195    195+97=292\n",
    "print(s)"
   ]
  },
  {
   "cell_type": "code",
   "execution_count": 10,
   "metadata": {},
   "outputs": [
    {
     "data": {
      "text/plain": [
       "65"
      ]
     },
     "execution_count": 10,
     "metadata": {},
     "output_type": "execute_result"
    }
   ],
   "source": [
    "ord('A')"
   ]
  },
  {
   "cell_type": "code",
   "execution_count": 12,
   "metadata": {},
   "outputs": [
    {
     "name": "stdout",
     "output_type": "stream",
     "text": [
      "10\n",
      "1 2 5 10 "
     ]
    }
   ],
   "source": [
    "#Factors 10-->1,2,5,10\n",
    "n=int(input())        #10\n",
    "for i in range(1,n+1): #i=1     i=2   i=3     i=4    i=5   i=10\n",
    "    if(n%i==0):      #10%1==0(T)   10%2==0(T)  10%3==0(F)  10%5==0(T)\n",
    "        print(i,end=\" \")"
   ]
  },
  {
   "cell_type": "code",
   "execution_count": 19,
   "metadata": {},
   "outputs": [
    {
     "name": "stdout",
     "output_type": "stream",
     "text": [
      "5\n",
      "5 is prime num\n"
     ]
    }
   ],
   "source": [
    "#Check the given num is Prime num or not\n",
    "n=int(input())     #5\n",
    "c=0\n",
    "for i in range(1,n+1):  #i=1  i=2   i=3  i=4   i=5\n",
    "    if(n%i==0):  #5%1==0(t)   5%2==0(f)    5%5==0(t)\n",
    "        c+=1       #1     2\n",
    "if(c==2):\n",
    "    print(n,\"is prime num\")\n",
    "else:\n",
    "    print(n,\"is not a prime num\")"
   ]
  },
  {
   "cell_type": "code",
   "execution_count": 24,
   "metadata": {},
   "outputs": [
    {
     "name": "stdout",
     "output_type": "stream",
     "text": [
      "1\n",
      "10\n",
      "Even nums are: 2 4 6 8 10 \n",
      "Odd nums are: 1 3 5 7 9 "
     ]
    }
   ],
   "source": [
    "#i/p:st=1\n",
    "#ep:10\n",
    "#o/p:Even nums are:2 4 6 8 10\n",
    "#    Odd nums are:1 3 5 7 9\n",
    "s=int(input())\n",
    "e=int(input())\n",
    "print(\"Even nums are:\",end=\" \")\n",
    "for i in range(s,e+1):\n",
    "    if(i%2==0):\n",
    "        print(i,end=\" \")\n",
    "print(\"\\nOdd nums are:\",end=\" \")\n",
    "for i in range(s,e+1):\n",
    "    if(i%2!=0):\n",
    "        print(i,end=\" \")"
   ]
  },
  {
   "cell_type": "code",
   "execution_count": 25,
   "metadata": {},
   "outputs": [
    {
     "name": "stdout",
     "output_type": "stream",
     "text": [
      "1\n",
      "10\n",
      "Even nums are: 1\n",
      "2\n",
      "3\n",
      "4\n",
      "5\n",
      "6\n",
      "7\n",
      "8\n",
      "9\n",
      "10\n"
     ]
    }
   ],
   "source": [
    "s=int(input())\n",
    "e=int(input())\n",
    "print(\"Even nums are:\",end=\" \")\n",
    "for i in range(s,e+1):\n",
    "    if(i%2==0):\n",
    "        print(i)\n",
    "    else:\n",
    "        print(i)"
   ]
  },
  {
   "cell_type": "markdown",
   "metadata": {},
   "source": [
    "#### While\n",
    "- it executes block or set of instructions until the condition is false\n",
    "- while we dont the range(range unknown)\n",
    "- Execution is fast compared to for.\n",
    "- User incrementation"
   ]
  },
  {
   "cell_type": "code",
   "execution_count": null,
   "metadata": {},
   "outputs": [],
   "source": [
    "#while syntax:\n",
    "initization\n",
    "while condition:\n",
    "    statement\n",
    "    incre/decre"
   ]
  },
  {
   "cell_type": "code",
   "execution_count": 26,
   "metadata": {},
   "outputs": [
    {
     "name": "stdout",
     "output_type": "stream",
     "text": [
      "Thankyou\n",
      "Thankyou\n",
      "Thankyou\n",
      "Thankyou\n"
     ]
    }
   ],
   "source": [
    "n=2\n",
    "while n<=5:\n",
    "    print(\"Thankyou\")\n",
    "    n=n+1"
   ]
  },
  {
   "cell_type": "code",
   "execution_count": 27,
   "metadata": {},
   "outputs": [
    {
     "name": "stdout",
     "output_type": "stream",
     "text": [
      "10 9 8 7 6 5 4 3 2 1 "
     ]
    }
   ],
   "source": [
    "i=10\n",
    "while i>=1:\n",
    "    print(i,end=\" \")\n",
    "    i=i-1"
   ]
  },
  {
   "cell_type": "code",
   "execution_count": 31,
   "metadata": {},
   "outputs": [
    {
     "name": "stdout",
     "output_type": "stream",
     "text": [
      "7864\n",
      "Digits count: 4\n"
     ]
    }
   ],
   "source": [
    "#i/p:7864\n",
    "#o/p:digits count:4\n",
    "n=int(input())   #7864\n",
    "c=0\n",
    "while(n!=0):     #7864!=0     786!=0      78!=0     7!=0    0!=(f)\n",
    "    #rem=n%10    #7864%10=4   786%10=6    78%10=8    7%10=7\n",
    "    c=c+1       #1             2           3         4\n",
    "    n=n//10      #7864//10=786   786//10=78   #78//10=7   7//10=0\n",
    "print(\"Digits count:\",c)"
   ]
  },
  {
   "cell_type": "code",
   "execution_count": null,
   "metadata": {},
   "outputs": [],
   "source": [
    "10)7864(786         10)786(78\n",
    "   7860                780\n",
    " --------           --------\n",
    "      4-->rem             6-->rem"
   ]
  },
  {
   "cell_type": "code",
   "execution_count": 33,
   "metadata": {},
   "outputs": [
    {
     "name": "stdout",
     "output_type": "stream",
     "text": [
      "7864\n",
      "Given num is not a palindrome\n"
     ]
    }
   ],
   "source": [
    "#palindrome  i/p:121   o/p:121\n",
    "n=int(input())   #7864\n",
    "temp=n \n",
    "rev=0\n",
    "while(n!=0):  #7864!=0   786!=0    78!=0    7!=0  0!=0(f)\n",
    "    rem=n%10 #4         6          8        7\n",
    "    rev=rev*10+rem #4  46         468     4687\n",
    "    n=n//10      #786  #78     78//10=7   7//10=0\n",
    "if(temp==rev):\n",
    "    print(\"Given num is palindrome\")\n",
    "else:\n",
    "    print(\"Given num is not a palindrome\")"
   ]
  },
  {
   "cell_type": "markdown",
   "metadata": {},
   "source": [
    "#### Nested for\n",
    "- for loop inside for loop(loop within loop)\n",
    "- outer loop &innerloops"
   ]
  },
  {
   "cell_type": "code",
   "execution_count": null,
   "metadata": {},
   "outputs": [],
   "source": [
    "#syntax:\n",
    "for var in range(start,end,step):\n",
    "    for var in range(start,end,step):\n",
    "        statements"
   ]
  },
  {
   "cell_type": "code",
   "execution_count": null,
   "metadata": {},
   "outputs": [],
   "source": []
  }
 ],
 "metadata": {
  "kernelspec": {
   "display_name": "Python 3",
   "language": "python",
   "name": "python3"
  },
  "language_info": {
   "codemirror_mode": {
    "name": "ipython",
    "version": 3
   },
   "file_extension": ".py",
   "mimetype": "text/x-python",
   "name": "python",
   "nbconvert_exporter": "python",
   "pygments_lexer": "ipython3",
   "version": "3.8.3"
  }
 },
 "nbformat": 4,
 "nbformat_minor": 4
}
